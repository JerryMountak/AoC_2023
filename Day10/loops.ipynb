{
 "cells": [
  {
   "cell_type": "code",
   "execution_count": 21,
   "metadata": {},
   "outputs": [],
   "source": [
    "loop_map = []\n",
    "\n",
    "def find_loop(i,j,board,dir,map=[]):\n",
    "    match dir:\n",
    "        case 'u':\n",
    "            pipe = board[i-1][j]\n",
    "            match pipe:\n",
    "                case '|':\n",
    "                    loop_map[i-1][j] = True\n",
    "                    find_loop(i-1,j,board,'u',map)\n",
    "                case '7':\n",
    "                    loop_map[i-1][j] = True\n",
    "                    find_loop(i-1,j,board,'l',map)\n",
    "                case 'F':\n",
    "                    loop_map[i-1][j] = True\n",
    "                    find_loop(i-1,j,board,'r',map)\n",
    "                case _:\n",
    "                    if pipe == 'S':\n",
    "                        return\n",
    "        case 'd':\n",
    "            pipe = board[i+1][j]\n",
    "            match pipe:\n",
    "                case '|':\n",
    "                    loop_map[i+1][j] = True\n",
    "                    find_loop(i+1,j,board,'d',map)\n",
    "                case 'J':\n",
    "                    loop_map[i+1][j] = True\n",
    "                    find_loop(i+1,j,board,'l',map)\n",
    "                case 'L':\n",
    "                    loop_map[i+1][j] = True\n",
    "                    find_loop(i+1,j,board,'r',map)\n",
    "                case _:\n",
    "                    if pipe == 'S':\n",
    "                        return\n",
    "        case 'l':\n",
    "            pipe = board[i][j-1]\n",
    "            match pipe:\n",
    "                case '-':\n",
    "                    loop_map[i][j-1] = True\n",
    "                    find_loop(i,j-1,board,'l',map)\n",
    "                case 'L':\n",
    "                    loop_map[i][j-1] = True\n",
    "                    find_loop(i,j-1,board,'u',map)\n",
    "                case 'F':\n",
    "                    loop_map[i][j-1] = True\n",
    "                    find_loop(i,j-1,board,'d',map)\n",
    "                case _:\n",
    "                    if pipe == 'S':\n",
    "                        return\n",
    "        case 'r':\n",
    "            pipe = board[i][j+1]\n",
    "            match pipe:\n",
    "                case '-':\n",
    "                    loop_map[i][j+1] = True\n",
    "                    find_loop(i,j+1,board,'r',map)\n",
    "                case 'J':\n",
    "                    loop_map[i][j+1] = True\n",
    "                    find_loop(i,j+1,board,'u',map)\n",
    "                case '7':\n",
    "                    loop_map[i][j+1] = True\n",
    "                    find_loop(i,j+1,board,'d',map)\n",
    "                case _:\n",
    "                    if pipe == 'S':\n",
    "                        return\n",
    "        case 'start':\n",
    "            loop_map[i][j] = True\n",
    "            if i != 0:\n",
    "                find_loop(i,j,board,'u',map)\n",
    "            if j != len(board)-1:\n",
    "                find_loop(i,j,board,'r',map)\n",
    "            if i != len(board)-1:\n",
    "                find_loop(i,j,board,'d',map)\n",
    "            if j != 0:\n",
    "                find_loop(i,j,board,'l',map)"
   ]
  },
  {
   "cell_type": "code",
   "execution_count": 22,
   "metadata": {},
   "outputs": [],
   "source": [
    "board = []\n",
    "\n",
    "with open(\"in.txt\") as f:\n",
    "    for i,line in enumerate(f):\n",
    "        tmp = list(line)\n",
    "        tmp.pop(-1)\n",
    "        board.append(tmp)\n",
    "        if 'S' in line:\n",
    "            start = (i,line.index('S'))\n",
    "\n",
    "loop_map = [[False for _ in line] for line in board]\n",
    "find_loop(start[0],start[1],board,'start')"
   ]
  },
  {
   "cell_type": "code",
   "execution_count": 23,
   "metadata": {},
   "outputs": [
    {
     "name": "stdout",
     "output_type": "stream",
     "text": [
      "80\n"
     ]
    }
   ],
   "source": [
    "print(int((sum([sum(i) for i in zip(*loop_map)]))/2))"
   ]
  },
  {
   "cell_type": "code",
   "execution_count": 24,
   "metadata": {},
   "outputs": [
    {
     "data": {
      "text/plain": [
       "10"
      ]
     },
     "execution_count": 24,
     "metadata": {},
     "output_type": "execute_result"
    }
   ],
   "source": [
    "is_inside = False\n",
    "res = 0\n",
    "\n",
    "for i,line in enumerate(board):\n",
    "    for j,p in enumerate(line):\n",
    "        if loop_map[i][j] and (p in {'|', 'L', 'J'}):\n",
    "            is_inside = not is_inside\n",
    "        elif not loop_map[i][j] and is_inside:\n",
    "            res += 1\n",
    "\n",
    "res"
   ]
  }
 ],
 "metadata": {
  "kernelspec": {
   "display_name": "base",
   "language": "python",
   "name": "python3"
  },
  "language_info": {
   "codemirror_mode": {
    "name": "ipython",
    "version": 3
   },
   "file_extension": ".py",
   "mimetype": "text/x-python",
   "name": "python",
   "nbconvert_exporter": "python",
   "pygments_lexer": "ipython3",
   "version": "3.10.13"
  }
 },
 "nbformat": 4,
 "nbformat_minor": 2
}
