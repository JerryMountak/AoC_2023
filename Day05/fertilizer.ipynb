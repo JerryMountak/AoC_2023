{
 "cells": [
  {
   "cell_type": "code",
   "execution_count": 2,
   "metadata": {},
   "outputs": [],
   "source": [
    "s2s = []\n",
    "s2f = []\n",
    "f2w = []\n",
    "w2l = []\n",
    "l2t = []\n",
    "t2h = []\n",
    "h2l = []\n",
    "\n",
    "maps = [s2s, s2f, f2w, w2l, l2t, t2h, h2l]"
   ]
  },
  {
   "cell_type": "code",
   "execution_count": null,
   "metadata": {},
   "outputs": [],
   "source": [
    "def read_map(fp, line, container):\n",
    "    i = line + 1\n",
    "    while fp[i][0] != '\\n':\n",
    "        tmp = fp[i].split()\n",
    "        container.append(list(map(int, tmp)))\n",
    "        i += 1\n",
    "        if i == len(fp)-1:\n",
    "            break\n",
    "    return i"
   ]
  },
  {
   "cell_type": "code",
   "execution_count": 3,
   "metadata": {},
   "outputs": [],
   "source": [
    "with open(\"input.txt\") as f:\n",
    "    line = 0\n",
    "    fp = f.readlines()\n",
    "\n",
    "    while line < len(fp) - 1:\n",
    "        if fp[line][0] == '\\n':\n",
    "            line += 1\n",
    "            continue\n",
    "\n",
    "        tmp = fp[line].split(':')\n",
    "        if tmp[0] == 'seeds':\n",
    "            seeds = list(map(int, tmp[1].split()))\n",
    "            line += 2\n",
    "        elif tmp[0] == 'seed-to-soil map':\n",
    "            line = read_map(fp, line, s2s)\n",
    "        elif tmp[0] == 'soil-to-fertilizer map':\n",
    "            line = read_map(fp, line, s2f)\n",
    "        elif tmp[0] == 'fertilizer-to-water map':\n",
    "            line = read_map(fp, line, f2w)\n",
    "        elif tmp[0] == 'water-to-light map':\n",
    "            line = read_map(fp, line, w2l)\n",
    "        elif tmp[0] == 'light-to-temperature map':\n",
    "            line = read_map(fp, line, l2t)\n",
    "        elif tmp[0] == 'temperature-to-humidity map':\n",
    "            line = read_map(fp, line, t2h)\n",
    "        elif tmp[0] == 'humidity-to-location map':\n",
    "            line = read_map(fp, line, h2l)\n"
   ]
  },
  {
   "cell_type": "code",
   "execution_count": 4,
   "metadata": {},
   "outputs": [
    {
     "data": {
      "text/plain": [
       "177942185"
      ]
     },
     "execution_count": 4,
     "metadata": {},
     "output_type": "execute_result"
    }
   ],
   "source": [
    "min_loc = float('inf')\n",
    "for seed in seeds:\n",
    "    res = seed\n",
    "    for i,m in enumerate(maps):\n",
    "        for line in m:\n",
    "            if res >= line[1] and res < line[1]+line[2]:\n",
    "                dif = res - line[1]\n",
    "                res = line[0] + dif \n",
    "                break\n",
    "    min_loc = min(res, min_loc)\n",
    "\n",
    "min_loc"
   ]
  },
  {
   "cell_type": "code",
   "execution_count": 6,
   "metadata": {},
   "outputs": [
    {
     "name": "stdout",
     "output_type": "stream",
     "text": [
      "Finished seed range\n",
      "Finished seed range\n",
      "Finished seed range\n",
      "Finished seed range\n",
      "Finished seed range\n",
      "Finished seed range\n",
      "Finished seed range\n",
      "Finished seed range\n",
      "Finished seed range\n",
      "Finished seed range\n",
      "69841803\n"
     ]
    }
   ],
   "source": [
    "from concurrent.futures import ThreadPoolExecutor\n",
    "\n",
    "def process_range(seed_range):\n",
    "    local_min_loc = float('inf')\n",
    "    for seed in range(seed_range[0], seed_range[0] + seed_range[1] + 1):\n",
    "        res = seed\n",
    "        for i, m in enumerate(maps):\n",
    "            for line in m:\n",
    "                if res >= line[1] and res < line[1] + line[2]:\n",
    "                    dif = res - line[1]\n",
    "                    res = line[0] + dif \n",
    "                    break\n",
    "        local_min_loc = min(res, local_min_loc)\n",
    "    print(\"Finished seed range\")\n",
    "    return local_min_loc\n",
    "\n",
    "\n",
    "min_loc = float('inf')\n",
    "chunk_size = 2  # Adjust the chunk size based on your needs\n",
    "\n",
    "ranges = [(seeds[i], seeds[i + 1]) for i in range(0, len(seeds), chunk_size)]\n",
    "\n",
    "with ThreadPoolExecutor() as executor:\n",
    "    results = list(executor.map(process_range, ranges))\n",
    "\n",
    "min_loc = min(results + [min_loc])\n",
    "print(min_loc)\n"
   ]
  }
 ],
 "metadata": {
  "kernelspec": {
   "display_name": "base",
   "language": "python",
   "name": "python3"
  },
  "language_info": {
   "codemirror_mode": {
    "name": "ipython",
    "version": 3
   },
   "file_extension": ".py",
   "mimetype": "text/x-python",
   "name": "python",
   "nbconvert_exporter": "python",
   "pygments_lexer": "ipython3",
   "version": "3.11.5"
  }
 },
 "nbformat": 4,
 "nbformat_minor": 2
}
