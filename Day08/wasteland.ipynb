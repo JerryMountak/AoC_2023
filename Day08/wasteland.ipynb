{
 "cells": [
  {
   "cell_type": "code",
   "execution_count": 59,
   "metadata": {},
   "outputs": [
    {
     "data": {
      "text/plain": [
       "17873"
      ]
     },
     "execution_count": 59,
     "metadata": {},
     "output_type": "execute_result"
    }
   ],
   "source": [
    "start,end = 'AAA','ZZZ'\n",
    "d = {'L':0, 'R':1}\n",
    "nodes = {}\n",
    "\n",
    "with open(\"input.txt\") as f:\n",
    "    lines = f.readlines()\n",
    "    instructions = list(lines[0])\n",
    "    instructions.pop(-1)\n",
    "\n",
    "    for line in lines[2:]:\n",
    "        l = line.replace('(','').replace(')','').replace(',','').replace('=','').split()\n",
    "        nodes[l[0]] = (l[1],l[2])\n",
    "\n",
    "dest_reached = False\n",
    "res = 0\n",
    "cur = start\n",
    "while not dest_reached:\n",
    "    for i in instructions:\n",
    "        res += 1\n",
    "        cur = nodes[cur][d[i]]\n",
    "\n",
    "        if cur == end:\n",
    "            dest_reached = True\n",
    "            break\n",
    "\n",
    "res"
   ]
  },
  {
   "cell_type": "code",
   "execution_count": 61,
   "metadata": {},
   "outputs": [
    {
     "data": {
      "text/plain": [
       "15746133679061"
      ]
     },
     "execution_count": 61,
     "metadata": {},
     "output_type": "execute_result"
    }
   ],
   "source": [
    "from math import lcm\n",
    "\n",
    "def end_node(n):\n",
    "    return (n[2] == 'Z')\n",
    "\n",
    "start_nodes = [n for n in nodes if n[2] == 'A']\n",
    "cur = start_nodes.copy()\n",
    "\n",
    "res = [0 for _ in start_nodes]\n",
    "\n",
    "for i,n in enumerate(start_nodes):\n",
    "    dest_reached = False\n",
    "    while not dest_reached:\n",
    "        for instr in instructions:\n",
    "            res[i] += 1\n",
    "            cur[i] = nodes[cur[i]][d[instr]]\n",
    "                    \n",
    "            if end_node(cur[i]):\n",
    "                dest_reached = True\n",
    "                break\n",
    "\n",
    "lcm(*res)"
   ]
  }
 ],
 "metadata": {
  "kernelspec": {
   "display_name": "base",
   "language": "python",
   "name": "python3"
  },
  "language_info": {
   "codemirror_mode": {
    "name": "ipython",
    "version": 3
   },
   "file_extension": ".py",
   "mimetype": "text/x-python",
   "name": "python",
   "nbconvert_exporter": "python",
   "pygments_lexer": "ipython3",
   "version": "3.10.13"
  }
 },
 "nbformat": 4,
 "nbformat_minor": 2
}
