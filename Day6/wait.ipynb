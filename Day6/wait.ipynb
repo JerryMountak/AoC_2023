{
 "cells": [
  {
   "cell_type": "code",
   "execution_count": 54,
   "metadata": {},
   "outputs": [
    {
     "data": {
      "text/plain": [
       "219849"
      ]
     },
     "execution_count": 54,
     "metadata": {},
     "output_type": "execute_result"
    }
   ],
   "source": [
    "from math import sqrt, floor, ceil\n",
    "\n",
    "with open(\"input.txt\") as f:\n",
    "    lines = f.readlines()\n",
    "    races = [(time,dist) for time,dist in zip(lines[0].split(':')[1].split(), lines[1].split(':')[1].split())]\n",
    "\n",
    "res = 1\n",
    "\n",
    "for time,dist in races:\n",
    "    time, dist = int(time), int(dist)\n",
    "    low = (time - sqrt(time**2 - 4*dist))/2\n",
    "    if ceil(low) == int(low):\n",
    "        low = ceil(low) + 1\n",
    "    else:\n",
    "        low = ceil(low)\n",
    "    high = (time + sqrt(time**2 - 4*dist))/2\n",
    "    if float(floor(high)) == high:\n",
    "        high = floor(high) - 1\n",
    "    else:\n",
    "        high = floor(high)    \n",
    "\n",
    "    res *= high-low+1\n",
    "\n",
    "res"
   ]
  },
  {
   "cell_type": "code",
   "execution_count": 55,
   "metadata": {},
   "outputs": [
    {
     "data": {
      "text/plain": [
       "29432455"
      ]
     },
     "execution_count": 55,
     "metadata": {},
     "output_type": "execute_result"
    }
   ],
   "source": [
    "time = int(''.join(r[0] for r in races))\n",
    "dist = int(''.join(r[1] for r in races))\n",
    "\n",
    "low = (time - sqrt(time**2 - 4*dist))/2\n",
    "if ceil(low) == int(low):\n",
    "    low = ceil(low) + 1\n",
    "else:\n",
    "    low = ceil(low)\n",
    "high = (time + sqrt(time**2 - 4*dist))/2\n",
    "if float(floor(high)) == high:\n",
    "    high = floor(high) - 1\n",
    "else:\n",
    "    high = floor(high)    \n",
    "\n",
    "res = high-low+1\n",
    "\n",
    "res"
   ]
  }
 ],
 "metadata": {
  "kernelspec": {
   "display_name": "base",
   "language": "python",
   "name": "python3"
  },
  "language_info": {
   "codemirror_mode": {
    "name": "ipython",
    "version": 3
   },
   "file_extension": ".py",
   "mimetype": "text/x-python",
   "name": "python",
   "nbconvert_exporter": "python",
   "pygments_lexer": "ipython3",
   "version": "3.10.13"
  }
 },
 "nbformat": 4,
 "nbformat_minor": 2
}
