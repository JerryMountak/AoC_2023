{
 "cells": [
  {
   "cell_type": "code",
   "execution_count": null,
   "metadata": {},
   "outputs": [],
   "source": [
    "def drop_block(block, grid):\n",
    "    b_start, b_end = block\n",
    "\n",
    "    \n",
    "    \n",
    "    return"
   ]
  },
  {
   "cell_type": "code",
   "execution_count": 5,
   "metadata": {},
   "outputs": [
    {
     "data": {
      "text/plain": [
       "[((1, 0, 1), (1, 2, 1)),\n",
       " ((0, 0, 2), (2, 0, 2)),\n",
       " ((0, 2, 3), (2, 2, 3)),\n",
       " ((0, 0, 4), (0, 2, 4)),\n",
       " ((2, 0, 5), (2, 2, 5)),\n",
       " ((0, 1, 6), (2, 1, 6)),\n",
       " ((1, 1, 8), (1, 1, 9))]"
      ]
     },
     "execution_count": 5,
     "metadata": {},
     "output_type": "execute_result"
    }
   ],
   "source": [
    "snapshot = []\n",
    "\n",
    "with open('in.txt') as f:\n",
    "    for line in f:\n",
    "        block_start, block_end = map(lambda x: tuple(map(int,x.split(','))),line.strip().split('~'))\n",
    "        snapshot.append((block_start, block_end))\n",
    "\n",
    "sorted_snapshot = sorted(snapshot, key=lambda x: min(x[0][2], x[1][2]))"
   ]
  }
 ],
 "metadata": {
  "kernelspec": {
   "display_name": "base",
   "language": "python",
   "name": "python3"
  },
  "language_info": {
   "codemirror_mode": {
    "name": "ipython",
    "version": 3
   },
   "file_extension": ".py",
   "mimetype": "text/x-python",
   "name": "python",
   "nbconvert_exporter": "python",
   "pygments_lexer": "ipython3",
   "version": "3.10.13"
  }
 },
 "nbformat": 4,
 "nbformat_minor": 2
}
