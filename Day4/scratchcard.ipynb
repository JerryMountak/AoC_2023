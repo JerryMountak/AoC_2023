{
 "cells": [
  {
   "cell_type": "code",
   "execution_count": 15,
   "metadata": {},
   "outputs": [
    {
     "data": {
      "text/plain": [
       "{'23', '27', '32', '48', '49', '66', '76', '82', '90', '99'}"
      ]
     },
     "execution_count": 15,
     "metadata": {},
     "output_type": "execute_result"
    }
   ],
   "source": [
    "a = \"Card 173: 49 32 66 48 90 27 76 99 82 23 | 54 21 89  8 10 36 76 30 57 27 48 40 46 88 61  7 86 59 84 34 80 83  5  3 64\"\n",
    "b = a.split(':')[1].split('|')\n",
    "set(b[0].split())"
   ]
  },
  {
   "cell_type": "code",
   "execution_count": 16,
   "metadata": {},
   "outputs": [
    {
     "data": {
      "text/plain": [
       "18519"
      ]
     },
     "execution_count": 16,
     "metadata": {},
     "output_type": "execute_result"
    }
   ],
   "source": [
    "cards = {}\n",
    "\n",
    "with open(\"input.txt\") as f:\n",
    "    for i,line in enumerate(f):\n",
    "        card = line.split(':')[1].split('|')\n",
    "        winning_numbers = set(card[0].split())\n",
    "        my_numbers = set(card[1].split())\n",
    "        cards[i] = (winning_numbers, my_numbers)\n",
    "\n",
    "res = 0\n",
    "for card in cards.values():\n",
    "    cnt = len(card[0].intersection(card[1]))\n",
    "    if cnt:\n",
    "        res += 2**(cnt-1)\n",
    "res"
   ]
  },
  {
   "cell_type": "code",
   "execution_count": 17,
   "metadata": {},
   "outputs": [
    {
     "data": {
      "text/plain": [
       "11787590"
      ]
     },
     "execution_count": 17,
     "metadata": {},
     "output_type": "execute_result"
    }
   ],
   "source": [
    "res = 0\n",
    "num_cards = {i:1 for i in cards}\n",
    "\n",
    "for i,card in cards.items():\n",
    "    cnt = len(card[0].intersection(card[1]))\n",
    "    \n",
    "    for j in range(i+1, i+1+cnt):\n",
    "        if j == len(cards):\n",
    "            break\n",
    "        num_cards[j] += num_cards[i]\n",
    "\n",
    "sum(num_cards.values())"
   ]
  }
 ],
 "metadata": {
  "kernelspec": {
   "display_name": "base",
   "language": "python",
   "name": "python3"
  },
  "language_info": {
   "codemirror_mode": {
    "name": "ipython",
    "version": 3
   },
   "file_extension": ".py",
   "mimetype": "text/x-python",
   "name": "python",
   "nbconvert_exporter": "python",
   "pygments_lexer": "ipython3",
   "version": "3.10.13"
  }
 },
 "nbformat": 4,
 "nbformat_minor": 2
}
