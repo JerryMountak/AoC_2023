{
 "cells": [
  {
   "cell_type": "code",
   "execution_count": 13,
   "metadata": {},
   "outputs": [],
   "source": [
    "def handle_pulse(module, pulse, source):\n",
    "    res = []\n",
    "    match module[0]:\n",
    "        case 'b':\n",
    "            for dest in module[2]:\n",
    "                res.append((dest,pulse))\n",
    "        case '%':\n",
    "            if not pulse:\n",
    "                if module[2]:\n",
    "                    module[2] = 0\n",
    "                    for dest in module[1]:\n",
    "                        res.append((dest,0))\n",
    "                else:\n",
    "                    module[2] = 1\n",
    "                    for dest in module[1]:\n",
    "                        res.append((dest,1))\n",
    "        case '&':\n",
    "            module[2][source] = pulse\n",
    "            if all(module[2].values()):\n",
    "                for dest in module[1]:\n",
    "                    res.append((dest,0))\n",
    "            else:\n",
    "                for dest in module[1]:\n",
    "                    res.append((dest,1))\n",
    "    return res"
   ]
  },
  {
   "cell_type": "code",
   "execution_count": 14,
   "metadata": {},
   "outputs": [],
   "source": [
    "modules = []\n",
    "\n",
    "with open('input.txt') as f:\n",
    "    for line in f:\n",
    "        name, outputs = line[:-1].split(' -> ')\n",
    "        m_ytpe = name[0]\n",
    "        m_name = name[1:]\n",
    "        m_outputs = outputs.split(', ')\n",
    "\n",
    "        modules.append([m_ytpe, m_name, m_outputs])\n",
    "\n",
    "conj = {}\n",
    "flipflops = {}\n",
    "for i,m in enumerate(modules):\n",
    "    if m[0] == '&':\n",
    "        conj[m[1]] = [m[0], m[2], {}]\n",
    "    elif m[0] == '%':\n",
    "        flipflops[m[1]] = [m[0], m[2], 0]\n",
    "\n",
    "for n,c in conj.items():\n",
    "    for m in modules:\n",
    "        if n in m[2]:\n",
    "            conj[n][2][m[1]] = 0"
   ]
  },
  {
   "cell_type": "code",
   "execution_count": 15,
   "metadata": {},
   "outputs": [
    {
     "name": "stdout",
     "output_type": "stream",
     "text": [
      "Part 1: 1020211150\n",
      "Part 2: 238815727638557\n"
     ]
    }
   ],
   "source": [
    "import math\n",
    "\n",
    "low = 0\n",
    "high = 0\n",
    "button_presses = 0\n",
    "lcms = {i:0 for i in conj['nc'][2]}\n",
    "\n",
    "while True:\n",
    "    if button_presses == 1000:\n",
    "        print('Part 1:', low*high)\n",
    "    button_presses += 1\n",
    "    \n",
    "    if all(lcms.values()):\n",
    "        print('Part 2:', math.lcm(*lcms.values()))\n",
    "        break\n",
    "\n",
    "    cur_module = modules[0]\n",
    "    low += 1\n",
    "    pulse_stack = list(map(lambda x: (cur_module[1],*x),handle_pulse(cur_module,0,'button')))\n",
    "\n",
    "    while pulse_stack:\n",
    "        p = pulse_stack.pop(0)\n",
    "\n",
    "        if p[0] in lcms and p[2]:\n",
    "            if not lcms[p[0]]:\n",
    "                lcms[p[0]] = button_presses\n",
    "\n",
    "        if p[2]:\n",
    "            high += 1\n",
    "        else:\n",
    "            low += 1\n",
    "\n",
    "        if p[1] in flipflops:\n",
    "            pulse_stack += list(map(lambda x: (p[1],*x),handle_pulse(flipflops[p[1]],p[2],p[0])))\n",
    "        elif p[1] in conj:\n",
    "            pulse_stack += list(map(lambda x: (p[1],*x),handle_pulse(conj[p[1]],p[2],p[0])))"
   ]
  }
 ],
 "metadata": {
  "kernelspec": {
   "display_name": "base",
   "language": "python",
   "name": "python3"
  },
  "language_info": {
   "codemirror_mode": {
    "name": "ipython",
    "version": 3
   },
   "file_extension": ".py",
   "mimetype": "text/x-python",
   "name": "python",
   "nbconvert_exporter": "python",
   "pygments_lexer": "ipython3",
   "version": "3.10.13"
  }
 },
 "nbformat": 4,
 "nbformat_minor": 2
}
