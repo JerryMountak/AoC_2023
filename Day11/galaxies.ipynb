{
 "cells": [
  {
   "cell_type": "code",
   "execution_count": 72,
   "metadata": {},
   "outputs": [],
   "source": [
    "def manhattan(a, b):\n",
    "    return sum(abs(val1-val2) for val1, val2 in zip(a,b))\n",
    "\n",
    "def index_2d(myList, v):\n",
    "    for i, x in enumerate(myList):\n",
    "        if v in x:\n",
    "            return (i, x.index(v))"
   ]
  },
  {
   "cell_type": "code",
   "execution_count": 73,
   "metadata": {},
   "outputs": [
    {
     "data": {
      "text/plain": [
       "374"
      ]
     },
     "execution_count": 73,
     "metadata": {},
     "output_type": "execute_result"
    }
   ],
   "source": [
    "image = []\n",
    "\n",
    "with open(\"in.txt\") as f:\n",
    "    for line in f:\n",
    "        tmp = list(line)\n",
    "        tmp.pop(-1)\n",
    "        image.append(tmp)\n",
    "        if '#' not in tmp:\n",
    "            image.append(tmp)\n",
    "\n",
    "insertions = []\n",
    "for j in range(len(image[0])):\n",
    "    col = [x[j] for x in image]\n",
    "    \n",
    "    if '#' not in col:\n",
    "        insertions.append(len(insertions) + j+1)\n",
    "\n",
    "for ins in insertions:\n",
    "    for i in range(len(image)):\n",
    "            image[i].insert(ins, '.')\n",
    "\n",
    "cnt = 0\n",
    "for i in range(len(image)):\n",
    "     for j in range(len(image[0])):\n",
    "          if image[i][j] == '#':\n",
    "               image[i][j] = cnt\n",
    "               cnt += 1\n",
    "\n",
    "pairs = [(a, b) for idx, a in enumerate(range(cnt)) for b in range(cnt)[idx + 1:]]\n",
    "pos = {i:index_2d(image,i) for i in range(cnt)}\n",
    "\n",
    "res = 0\n",
    "for pair in pairs:\n",
    "     res += manhattan(list(pos[pair[0]]), list(pos[pair[1]]))\n",
    "\n",
    "res"
   ]
  },
  {
   "cell_type": "code",
   "execution_count": 74,
   "metadata": {},
   "outputs": [
    {
     "data": {
      "text/plain": [
       "699909023130"
      ]
     },
     "execution_count": 74,
     "metadata": {},
     "output_type": "execute_result"
    }
   ],
   "source": [
    "empty_rows = []\n",
    "empty_cols = []\n",
    "\n",
    "image = []\n",
    "with open(\"input.txt\") as f:\n",
    "    for i,line in enumerate(f):\n",
    "        tmp = list(line)\n",
    "        tmp.pop(-1)\n",
    "        image.append(tmp)\n",
    "        if '#' not in tmp:\n",
    "            empty_rows.append(i)\n",
    "        \n",
    "for j in range(len(image[0])):\n",
    "    col = [x[j] for x in image]\n",
    "    \n",
    "    if '#' not in col:\n",
    "        empty_cols.append(j)\n",
    "\n",
    "cnt = 0\n",
    "for i in range(len(image)):\n",
    "     for j in range(len(image[0])):\n",
    "          if image[i][j] == '#':\n",
    "               image[i][j] = cnt\n",
    "               cnt += 1\n",
    "\n",
    "pairs = [(a, b) for idx, a in enumerate(range(cnt)) for b in range(cnt)[idx + 1:]]\n",
    "pos = {i:index_2d(image,i) for i in range(cnt)}\n",
    "\n",
    "res = 0\n",
    "for pair in pairs:\n",
    "    a_i, a_j = pos[pair[0]]\n",
    "    b_i, b_j = pos[pair[1]]\n",
    "    a_sum_rows = sum([1 for x in empty_rows if x < a_i])*1000000 - sum([1 for x in empty_rows if x < a_i])\n",
    "    a_sum_cols = sum([1 for x in empty_cols if x < a_j])*1000000 - sum([1 for x in empty_cols if x < a_j])\n",
    "    b_sum_rows = sum([1 for x in empty_rows if x < b_i])*1000000 - sum([1 for x in empty_rows if x < b_i])\n",
    "    b_sum_cols = sum([1 for x in empty_cols if x < b_j])*1000000 - sum([1 for x in empty_cols if x < b_j])\n",
    "    pos_a = [a_i + a_sum_rows, a_j + a_sum_cols]\n",
    "    pos_b = [b_i + b_sum_rows, b_j + b_sum_cols]\n",
    "    res += manhattan(pos_a, pos_b)\n",
    "\n",
    "res"
   ]
  }
 ],
 "metadata": {
  "kernelspec": {
   "display_name": "base",
   "language": "python",
   "name": "python3"
  },
  "language_info": {
   "codemirror_mode": {
    "name": "ipython",
    "version": 3
   },
   "file_extension": ".py",
   "mimetype": "text/x-python",
   "name": "python",
   "nbconvert_exporter": "python",
   "pygments_lexer": "ipython3",
   "version": "3.10.13"
  }
 },
 "nbformat": 4,
 "nbformat_minor": 2
}
