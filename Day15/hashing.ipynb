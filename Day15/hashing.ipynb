{
 "cells": [
  {
   "cell_type": "code",
   "execution_count": 20,
   "metadata": {},
   "outputs": [],
   "source": [
    "def HASH(string):\n",
    "    res = 0\n",
    "    for s in string:\n",
    "        res += ord(s)\n",
    "        res *= 17\n",
    "        res %= 256\n",
    "\n",
    "    return res"
   ]
  },
  {
   "cell_type": "code",
   "execution_count": 21,
   "metadata": {},
   "outputs": [
    {
     "data": {
      "text/plain": [
       "521434"
      ]
     },
     "execution_count": 21,
     "metadata": {},
     "output_type": "execute_result"
    }
   ],
   "source": [
    "instructions = []\n",
    "\n",
    "with open(\"input.txt\") as f:\n",
    "    line = f.readline()\n",
    "    instructions = line.split(',')\n",
    "\n",
    "sum([HASH(i) for i in instructions])"
   ]
  },
  {
   "cell_type": "code",
   "execution_count": 22,
   "metadata": {},
   "outputs": [
    {
     "data": {
      "text/plain": [
       "248279"
      ]
     },
     "execution_count": 22,
     "metadata": {},
     "output_type": "execute_result"
    }
   ],
   "source": [
    "def HASHMAP(lst):\n",
    "    for string in lst:\n",
    "        if '=' in string:\n",
    "            label, focal_length = string.split('=')\n",
    "            box = HASH(label)\n",
    "\n",
    "            if not boxes[box]:\n",
    "                boxes[box][label] = (1, int(focal_length))\n",
    "            else:\n",
    "                if label not in boxes[box]:\n",
    "                    idx = max(boxes[box].values(), key=lambda x: x[0])[0]\n",
    "                    boxes[box][label] = (idx+1,int(focal_length))\n",
    "                else:\n",
    "                    idx = boxes[box][label][0]\n",
    "                    boxes[box][label] = (idx,int(focal_length))\n",
    "        else:\n",
    "            label = string[:-1]\n",
    "            box = HASH(label)\n",
    "\n",
    "            if label in boxes[box]:\n",
    "                tmp = boxes[box][label]\n",
    "                boxes[box].pop(label)\n",
    "\n",
    "                for l,b in boxes[box].items():\n",
    "                    if b[0] > tmp[0]:\n",
    "                        boxes[box][l] = (b[0]-1, b[1])\n",
    "        \n",
    "    return\n",
    "\n",
    "\n",
    "def calc_focal_power(boxes):\n",
    "    res = 0\n",
    "    for i,box in enumerate(boxes,1):\n",
    "        for lens in box.values():\n",
    "            res += i*lens[0]*lens[1]\n",
    "\n",
    "    return res\n",
    "\n",
    "\n",
    "boxes = [{} for _ in range(256)]\n",
    "\n",
    "HASHMAP(instructions)\n",
    "calc_focal_power(boxes)"
   ]
  }
 ],
 "metadata": {
  "kernelspec": {
   "display_name": "base",
   "language": "python",
   "name": "python3"
  },
  "language_info": {
   "codemirror_mode": {
    "name": "ipython",
    "version": 3
   },
   "file_extension": ".py",
   "mimetype": "text/x-python",
   "name": "python",
   "nbconvert_exporter": "python",
   "pygments_lexer": "ipython3",
   "version": "3.10.13"
  }
 },
 "nbformat": 4,
 "nbformat_minor": 2
}
