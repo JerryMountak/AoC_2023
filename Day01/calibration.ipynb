{
 "cells": [
  {
   "cell_type": "code",
   "execution_count": 48,
   "metadata": {},
   "outputs": [],
   "source": [
    "num_dict = {'one':'1','two':'2','three':'3',\n",
    "            'four':'4','five':'5','six':'6',\n",
    "            'seven':'7','eight':'8','nine':'9'}"
   ]
  },
  {
   "cell_type": "code",
   "execution_count": 49,
   "metadata": {},
   "outputs": [
    {
     "name": "stdout",
     "output_type": "stream",
     "text": [
      "54951\n"
     ]
    }
   ],
   "source": [
    "sum = 0\n",
    "with open(\"input.txt\") as f:\n",
    "    for line in f:\n",
    "        nums = []\n",
    "        for char in line:\n",
    "            if char.isnumeric():\n",
    "                nums.append(char)\n",
    "        if len(nums) == 1:\n",
    "            sum += int(nums[0]+nums[0])\n",
    "        else:\n",
    "            sum += int(nums[0]+nums[-1])\n",
    "\n",
    "print(sum)"
   ]
  },
  {
   "cell_type": "code",
   "execution_count": 50,
   "metadata": {},
   "outputs": [
    {
     "name": "stdout",
     "output_type": "stream",
     "text": [
      "55218\n"
     ]
    }
   ],
   "source": [
    "from nltk.util import ngrams\n",
    "\n",
    "sum = 0\n",
    "with open(\"input.txt\") as f:\n",
    "    for line in f:\n",
    "        threegrams = list(ngrams(list(line),3))\n",
    "        fourgrams = list(ngrams(list(line),4))\n",
    "        fivegrams = list(ngrams(list(line),5))\n",
    "        nums = {}\n",
    "        ind = 0\n",
    "        seen = {'one':False,'two':False,'three':False,\n",
    "                'four':False,'five':False,'six':False,\n",
    "                'seven':False,'eight':False,'nine':False}\n",
    "        \n",
    "        for i,char in enumerate(line):\n",
    "            if char.isnumeric():\n",
    "                nums[i] = char\n",
    "        for ngram in threegrams+fourgrams+fivegrams:\n",
    "            if ''.join(ngram) in num_dict.keys():\n",
    "                if seen[''.join(ngram)]:\n",
    "                    ind = line.find(''.join(ngram),ind+1)\n",
    "                    nums[ind] = num_dict[''.join(ngram)]\n",
    "                else:\n",
    "                    ind = line.find(''.join(ngram))\n",
    "                    nums[ind] = num_dict[''.join(ngram)]\n",
    "                    seen[''.join(ngram)] = True\n",
    "\n",
    "        nums = [nums[x] for x in list(sorted(nums))]\n",
    "        \n",
    "        if len(nums) == 1:\n",
    "            sum += int(nums[0]+nums[0])\n",
    "        else:\n",
    "            sum += int(nums[0]+nums[-1])\n",
    "\n",
    "print(sum)"
   ]
  }
 ],
 "metadata": {
  "kernelspec": {
   "display_name": "base",
   "language": "python",
   "name": "python3"
  },
  "language_info": {
   "codemirror_mode": {
    "name": "ipython",
    "version": 3
   },
   "file_extension": ".py",
   "mimetype": "text/x-python",
   "name": "python",
   "nbconvert_exporter": "python",
   "pygments_lexer": "ipython3",
   "version": "3.10.13"
  }
 },
 "nbformat": 4,
 "nbformat_minor": 2
}
