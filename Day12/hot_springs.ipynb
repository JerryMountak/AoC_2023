{
 "cells": [
  {
   "cell_type": "code",
   "execution_count": 170,
   "metadata": {},
   "outputs": [],
   "source": [
    "from itertools import groupby, combinations\n",
    "\n",
    "def count_cont(line):\n",
    "    return [len(list(j)) for i, j in groupby(line) if i == '#']\n",
    "\n",
    "def find_indices(lst, condition):\n",
    "    return [i for i, elem in enumerate(lst) if condition(elem)]\n"
   ]
  },
  {
   "cell_type": "code",
   "execution_count": 171,
   "metadata": {},
   "outputs": [
    {
     "data": {
      "text/plain": [
       "7173"
      ]
     },
     "execution_count": 171,
     "metadata": {},
     "output_type": "execute_result"
    }
   ],
   "source": [
    "springs = []\n",
    "cont_groups = []\n",
    "\n",
    "with open(\"input.txt\") as f:\n",
    "    for line in f:\n",
    "        tmp = line.split()\n",
    "        springs.append(list(tmp[0]))\n",
    "        cont_groups.append(list(map(int,tmp[1].split(','))))\n",
    "\n",
    "res = 0\n",
    "for s,cg in zip(springs,cont_groups):\n",
    "    cnt = count_cont(s)\n",
    "    dif = sum(cg) - sum(cnt)\n",
    "\n",
    "    ind = find_indices(s, lambda x: x == '?')\n",
    "    comb = combinations(ind, r=dif)\n",
    "    \n",
    "    for c in comb:\n",
    "        tmp = s.copy()\n",
    "        for pos in c:\n",
    "            tmp[pos] = '#'\n",
    "        if count_cont(tmp) == cg:\n",
    "            res += 1\n",
    "\n",
    "res"
   ]
  },
  {
   "cell_type": "code",
   "execution_count": 172,
   "metadata": {},
   "outputs": [],
   "source": [
    "for i,line in enumerate(springs):\n",
    "    tmp = ''.join(line+['?'])\n",
    "    springs[i] = [x for x in tmp * 5]\n",
    "    springs[i].pop(-1)\n",
    "\n",
    "for i,line in enumerate(cont_groups):\n",
    "    cont_groups[i] = [x for x in line * 5]"
   ]
  },
  {
   "cell_type": "code",
   "execution_count": 173,
   "metadata": {},
   "outputs": [],
   "source": [
    "from functools import cache\n",
    "\n",
    "@cache\n",
    "def count_permutations(line, groups, cur_group):\n",
    "    if not line:\n",
    "        return not groups and not cur_group\n",
    "    res = 0\n",
    "    symbol = ['.','#'] if line[0] == '?' else line[0]\n",
    "    for s in symbol:\n",
    "        if s == '#':\n",
    "            res += count_permutations(line[1:], groups, cur_group+1)\n",
    "        else:\n",
    "            if cur_group:\n",
    "                if groups and cur_group == groups[0]:\n",
    "                    res += count_permutations(line[1:], groups[1:], 0)\n",
    "            else:\n",
    "                res += count_permutations(line[1:], groups, 0)\n",
    "    \n",
    "    return res"
   ]
  },
  {
   "cell_type": "code",
   "execution_count": 178,
   "metadata": {},
   "outputs": [
    {
     "data": {
      "text/plain": [
       "29826669191291"
      ]
     },
     "execution_count": 178,
     "metadata": {},
     "output_type": "execute_result"
    }
   ],
   "source": [
    "sum(count_permutations(''.join(line)+'.', tuple(groups), 0) for line, groups in zip(springs,cont_groups))"
   ]
  }
 ],
 "metadata": {
  "kernelspec": {
   "display_name": "base",
   "language": "python",
   "name": "python3"
  },
  "language_info": {
   "codemirror_mode": {
    "name": "ipython",
    "version": 3
   },
   "file_extension": ".py",
   "mimetype": "text/x-python",
   "name": "python",
   "nbconvert_exporter": "python",
   "pygments_lexer": "ipython3",
   "version": "3.10.13"
  }
 },
 "nbformat": 4,
 "nbformat_minor": 2
}
