{
 "cells": [
  {
   "cell_type": "code",
   "execution_count": 56,
   "metadata": {},
   "outputs": [],
   "source": [
    "global_config = {'red':12, 'green':13, 'blue':14}"
   ]
  },
  {
   "cell_type": "code",
   "execution_count": 55,
   "metadata": {},
   "outputs": [
    {
     "data": {
      "text/plain": [
       "2563"
      ]
     },
     "execution_count": 55,
     "metadata": {},
     "output_type": "execute_result"
    }
   ],
   "source": [
    "with open(\"input.txt\") as f:\n",
    "    c_sets = {}\n",
    "    for line in f:\n",
    "        id = int(line.split(':')[0].split(' ')[1])\n",
    "        cube_set = line.split(':')[1].split(';')\n",
    "        tmp_list = []\n",
    "        # print(cube_set)\n",
    "        for i,s in enumerate(cube_set):\n",
    "            c_dict = {}\n",
    "            for c in s.split(','):\n",
    "                tmp = c.split(' ')\n",
    "                c_dict[tmp[2].replace(\"\\n\", \"\")] = int(tmp[1].replace(\"\\n\", \"\"))\n",
    "            tmp_list.append(c_dict)\n",
    "        c_sets[id] = tmp_list\n",
    "        \n",
    "valid_sum = {}\n",
    "for id,v in c_sets.items():\n",
    "    for t in v:\n",
    "        for col,val in t.items():\n",
    "            if val > global_config[col]:\n",
    "                valid_sum[id] = False\n",
    "                break\n",
    "            valid_sum[id] = True\n",
    "        if not valid_sum[id]: break\n",
    "sum = 0 \n",
    "for id, valid in valid_sum.items():\n",
    "    if valid:\n",
    "        sum += id\n",
    "\n",
    "sum"
   ]
  },
  {
   "cell_type": "code",
   "execution_count": 61,
   "metadata": {},
   "outputs": [
    {
     "data": {
      "text/plain": [
       "70768"
      ]
     },
     "execution_count": 61,
     "metadata": {},
     "output_type": "execute_result"
    }
   ],
   "source": [
    "import numpy as np\n",
    "\n",
    "with open(\"input.txt\") as f:\n",
    "    c_sets = {}\n",
    "    for line in f:\n",
    "        id = int(line.split(':')[0].split(' ')[1])\n",
    "        cube_set = line.split(':')[1].split(';')\n",
    "        tmp_list = []\n",
    "        # print(cube_set)\n",
    "        for i,s in enumerate(cube_set):\n",
    "            c_dict = {}\n",
    "            for c in s.split(','):\n",
    "                tmp = c.split(' ')\n",
    "                c_dict[tmp[2].replace(\"\\n\", \"\")] = int(tmp[1].replace(\"\\n\", \"\"))\n",
    "            tmp_list.append(c_dict)\n",
    "        c_sets[id] = tmp_list\n",
    "\n",
    "res = {}\n",
    "\n",
    "for id,v in c_sets.items():\n",
    "    max_dict = {'red':0, 'green':0, 'blue':0}\n",
    "    for t in v:\n",
    "        for col,val in t.items():\n",
    "            if val > max_dict[col]:\n",
    "                max_dict[col] = val\n",
    "    res[id] = max_dict\n",
    "\n",
    "sum = 0\n",
    "for min_set in res.values():\n",
    "    sum += np.prod(list(min_set.values()))\n",
    "\n",
    "sum"
   ]
  }
 ],
 "metadata": {
  "kernelspec": {
   "display_name": "base",
   "language": "python",
   "name": "python3"
  },
  "language_info": {
   "codemirror_mode": {
    "name": "ipython",
    "version": 3
   },
   "file_extension": ".py",
   "mimetype": "text/x-python",
   "name": "python",
   "nbconvert_exporter": "python",
   "pygments_lexer": "ipython3",
   "version": "3.10.13"
  }
 },
 "nbformat": 4,
 "nbformat_minor": 2
}
