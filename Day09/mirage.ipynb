{
 "cells": [
  {
   "cell_type": "code",
   "execution_count": 30,
   "metadata": {},
   "outputs": [],
   "source": [
    "def next_in_seq(line):\n",
    "    if all(v == 0 for v in line):\n",
    "        return 0\n",
    "    \n",
    "    new_line = []\n",
    "    for i,j in zip(range(len(line)), range(1,len(line))):\n",
    "        new_line.append(line[j] - line[i])\n",
    "    \n",
    "    next_num = line[-1] + next_in_seq(new_line)\n",
    "\n",
    "    return next_num"
   ]
  },
  {
   "cell_type": "code",
   "execution_count": 31,
   "metadata": {},
   "outputs": [
    {
     "data": {
      "text/plain": [
       "2075724761"
      ]
     },
     "execution_count": 31,
     "metadata": {},
     "output_type": "execute_result"
    }
   ],
   "source": [
    "values = []\n",
    "\n",
    "with open(\"input.txt\") as f:\n",
    "    for line in f:\n",
    "        tmp = list(map(int,line.split()))\n",
    "        values.append(tmp)\n",
    "\n",
    "res = 0\n",
    "for line in values:\n",
    "    res += next_in_seq(line)\n",
    "\n",
    "res"
   ]
  },
  {
   "cell_type": "code",
   "execution_count": 32,
   "metadata": {},
   "outputs": [],
   "source": [
    "def first_in_seq(line):\n",
    "    if all(v == 0 for v in line):\n",
    "        return 0\n",
    "    \n",
    "    new_line = []\n",
    "    for i,j in zip(range(len(line)), range(1,len(line))):\n",
    "        new_line.append(line[j] - line[i])\n",
    "    \n",
    "    next_num = line[0] - first_in_seq(new_line)\n",
    "\n",
    "    return next_num"
   ]
  },
  {
   "cell_type": "code",
   "execution_count": 33,
   "metadata": {},
   "outputs": [
    {
     "data": {
      "text/plain": [
       "1072"
      ]
     },
     "execution_count": 33,
     "metadata": {},
     "output_type": "execute_result"
    }
   ],
   "source": [
    "res = 0\n",
    "for line in values:\n",
    "    res += first_in_seq(line)\n",
    "\n",
    "res"
   ]
  }
 ],
 "metadata": {
  "kernelspec": {
   "display_name": "base",
   "language": "python",
   "name": "python3"
  },
  "language_info": {
   "codemirror_mode": {
    "name": "ipython",
    "version": 3
   },
   "file_extension": ".py",
   "mimetype": "text/x-python",
   "name": "python",
   "nbconvert_exporter": "python",
   "pygments_lexer": "ipython3",
   "version": "3.10.13"
  }
 },
 "nbformat": 4,
 "nbformat_minor": 2
}
