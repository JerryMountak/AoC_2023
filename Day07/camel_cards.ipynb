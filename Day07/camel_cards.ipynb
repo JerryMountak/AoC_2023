{
 "cells": [
  {
   "cell_type": "code",
   "execution_count": 72,
   "metadata": {},
   "outputs": [],
   "source": [
    "from functools import cmp_to_key\n",
    "\n",
    "card_ord = {'2': 0, '3': 1, '4': 2, '5': 3,\n",
    "            '6': 4, '7': 5, '8': 6, '9': 7,\n",
    "            'T': 8, 'J': 9, 'Q': 10,'K': 11, 'A': 12}\n",
    "hands = {}\n",
    "\n",
    "def tie_break(a,b):\n",
    "    for ca,cb in zip(list(a), list(b)):\n",
    "        if card_ord[ca] > card_ord[cb]:\n",
    "            return 1\n",
    "        elif card_ord[ca] == card_ord[cb]:\n",
    "            continue\n",
    "        else:\n",
    "            return -1\n",
    "    return 0\n",
    "\n",
    "def hand_comp(a,b):\n",
    "    if len(hands[a]) < len(hands[b]):\n",
    "        return 1\n",
    "    elif len(hands[a]) > len(hands[b]):\n",
    "        return -1\n",
    "    else:\n",
    "        if len(hands[a]) == 2:\n",
    "            if 4 in hands[a] and 4 not in hands[b]:\n",
    "                return 1\n",
    "            elif 4 not in hands[a] and 4 in hands[b]:\n",
    "                return -1\n",
    "            else:\n",
    "                return tie_break(a,b)\n",
    "        elif len(hands[a]) == 3:\n",
    "            if 3 in hands[a] and 3 not in hands[b]:\n",
    "                return 1\n",
    "            elif 3 not in hands[a] and 3 in hands[b]:\n",
    "                return -1\n",
    "            else:\n",
    "                return tie_break(a,b)\n",
    "        else:\n",
    "            return tie_break(a,b)\n",
    "        \n",
    "hand_cmp_key = cmp_to_key(hand_comp)\n"
   ]
  },
  {
   "cell_type": "code",
   "execution_count": 73,
   "metadata": {},
   "outputs": [
    {
     "data": {
      "text/plain": [
       "251287184"
      ]
     },
     "execution_count": 73,
     "metadata": {},
     "output_type": "execute_result"
    }
   ],
   "source": [
    "hands = {}\n",
    "bids = {}\n",
    "\n",
    "with open(\"input.txt\") as f:\n",
    "    for line in f:\n",
    "        deal = line.split()\n",
    "        hand = [deal[0].count(e) for e in set(deal[0])]\n",
    "        bid = int(deal[1])\n",
    "        hands[deal[0]] = hand\n",
    "        bids[deal[0]] = bid\n",
    "\n",
    "tmp = list(hands)\n",
    "tmp.sort(key=hand_cmp_key)\n",
    "\n",
    "res = 0\n",
    "for hand,bid in bids.items():\n",
    "    res += bid*(tmp.index(hand)+1)\n",
    "\n",
    "res"
   ]
  },
  {
   "cell_type": "code",
   "execution_count": 76,
   "metadata": {},
   "outputs": [
    {
     "data": {
      "text/plain": [
       "250757288"
      ]
     },
     "execution_count": 76,
     "metadata": {},
     "output_type": "execute_result"
    }
   ],
   "source": [
    "card_ord = {'2': 1, '3': 2, '4': 3, '5': 4,\n",
    "            '6': 5, '7': 6, '8': 7, '9': 8,\n",
    "            'T': 9, 'J': 0, 'Q':10, 'K': 11, 'A': 12}\n",
    "\n",
    "hands = {}\n",
    "bids = {}\n",
    "\n",
    "with open(\"input.txt\") as f:\n",
    "    for line in f:\n",
    "        deal = line.split()\n",
    "        hand = {e:deal[0].count(e) for e in set(deal[0])}\n",
    "        if 'J' in hand:\n",
    "            wild = hand['J']\n",
    "            hand.pop('J')\n",
    "            if len(hand):\n",
    "                hand[max(hand, key=lambda x: hand[x])] += wild\n",
    "            else:\n",
    "                hand['A'] = 5\n",
    "        bid = int(deal[1])\n",
    "        hands[deal[0]] = list(hand.values())\n",
    "        bids[deal[0]] = bid\n",
    "\n",
    "tmp = list(hands)\n",
    "tmp.sort(key=hand_cmp_key)\n",
    "\n",
    "res = 0\n",
    "for hand,bid in bids.items():\n",
    "    res += bid*(tmp.index(hand)+1)\n",
    "\n",
    "res"
   ]
  }
 ],
 "metadata": {
  "kernelspec": {
   "display_name": "base",
   "language": "python",
   "name": "python3"
  },
  "language_info": {
   "codemirror_mode": {
    "name": "ipython",
    "version": 3
   },
   "file_extension": ".py",
   "mimetype": "text/x-python",
   "name": "python",
   "nbconvert_exporter": "python",
   "pygments_lexer": "ipython3",
   "version": "3.10.13"
  }
 },
 "nbformat": 4,
 "nbformat_minor": 2
}
