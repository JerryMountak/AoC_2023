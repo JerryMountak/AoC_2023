{
 "cells": [
  {
   "cell_type": "code",
   "execution_count": 197,
   "metadata": {},
   "outputs": [],
   "source": [
    "def find_mirrors(pattern):\n",
    "    res = 0\n",
    "    \n",
    "    # Horizontal\n",
    "    for i in range(len(pattern)):\n",
    "        if i <= len(pattern)-i:\n",
    "            tmp = pattern[i:2*i]\n",
    "            tmp.reverse()\n",
    "            if pattern[:i] == tmp:\n",
    "                res += i*100\n",
    "        else:\n",
    "            ind = len(pattern)-i\n",
    "            tmp = pattern[i:]\n",
    "            tmp.reverse()\n",
    "            if pattern[i-ind:i] == tmp:\n",
    "                res += i*100\n",
    "    \n",
    "    # Vertical\n",
    "    cols = [[i[j] for i in pattern] for j in range(len(pattern[0]))]\n",
    "    for i in range(len(cols)):\n",
    "        if i <= len(cols)-i:\n",
    "            tmp = cols[i:2*i]\n",
    "            tmp.reverse()\n",
    "            if cols[:i] == tmp:\n",
    "                res += i\n",
    "        else:\n",
    "            ind = len(cols)-i\n",
    "            tmp = cols[i:]\n",
    "            tmp.reverse()\n",
    "            if cols[i-ind:i] == tmp:\n",
    "                res += i\n",
    "\n",
    "    return res"
   ]
  },
  {
   "cell_type": "code",
   "execution_count": 198,
   "metadata": {},
   "outputs": [
    {
     "data": {
      "text/plain": [
       "0"
      ]
     },
     "execution_count": 198,
     "metadata": {},
     "output_type": "execute_result"
    }
   ],
   "source": [
    "a = [[1,2,3], [4,5,6], [1,2,3], [4,5,6]]\n",
    "b = [['1','2','3'], ['4','5','6'], ['1','2','3'], ['4','5','6']]\n",
    "# cols = [[i[j] for i in b] for j in range(len(b[0]))]\n",
    "# print(cols)\n",
    "# a[1:3],a[3:4]\n",
    "find_mirrors(a)"
   ]
  },
  {
   "cell_type": "code",
   "execution_count": 199,
   "metadata": {},
   "outputs": [
    {
     "data": {
      "text/plain": [
       "28895"
      ]
     },
     "execution_count": 199,
     "metadata": {},
     "output_type": "execute_result"
    }
   ],
   "source": [
    "patterns = []\n",
    "\n",
    "with open(\"input.txt\") as f:\n",
    "    p = []\n",
    "    for line in f:\n",
    "        if line == '\\n':\n",
    "            patterns.append(p)\n",
    "            p = []\n",
    "            continue\n",
    "        p.append(list(line)[:-1])\n",
    "    patterns.append(p)\n",
    "\n",
    "sum([find_mirrors(pattern) for pattern in patterns])"
   ]
  },
  {
   "cell_type": "code",
   "execution_count": 200,
   "metadata": {},
   "outputs": [],
   "source": [
    "def differences(a, b):\n",
    "    if len(a) != len(b):\n",
    "        raise ValueError(\"Lists of different length.\")\n",
    "    \n",
    "    total_diff = 0\n",
    "    for sub_a, sub_b in zip(a, b):\n",
    "        if len(sub_a) != len(sub_b):\n",
    "            raise ValueError(\"Sublists of different length.\")\n",
    "        total_diff += sum(i != j for i, j in zip(sub_a, sub_b))\n",
    "    \n",
    "    return total_diff\n",
    "\n",
    "\n",
    "def find_smudges(pattern):\n",
    "    res = 0\n",
    "    \n",
    "    # Horizontal\n",
    "    for i in range(len(pattern)):\n",
    "        if i <= len(pattern)-i:\n",
    "            tmp = pattern[i:2*i]\n",
    "            tmp.reverse()\n",
    "            \n",
    "            if differences(pattern[:i], tmp) == 1:\n",
    "                res += i*100\n",
    "        else:\n",
    "            ind = len(pattern)-i\n",
    "            tmp = pattern[i:]\n",
    "            tmp.reverse()\n",
    "            if differences(pattern[i-ind:i], tmp) == 1:\n",
    "                res += i*100\n",
    "    \n",
    "    # Vertical\n",
    "    cols = [[i[j] for i in pattern] for j in range(len(pattern[0]))]\n",
    "    for i in range(len(cols)):\n",
    "        if i <= len(cols)-i:\n",
    "            tmp = cols[i:2*i]\n",
    "            tmp.reverse()\n",
    "            if differences(cols[:i], tmp) == 1:\n",
    "                res += i\n",
    "        else:\n",
    "            ind = len(cols)-i\n",
    "            tmp = cols[i:]\n",
    "            tmp.reverse()\n",
    "            if differences(cols[i-ind:i], tmp) == 1:\n",
    "                res += i\n",
    "\n",
    "    return res"
   ]
  },
  {
   "cell_type": "code",
   "execution_count": 201,
   "metadata": {},
   "outputs": [
    {
     "data": {
      "text/plain": [
       "31603"
      ]
     },
     "execution_count": 201,
     "metadata": {},
     "output_type": "execute_result"
    }
   ],
   "source": [
    "sum([find_smudges(pattern) for pattern in patterns])"
   ]
  }
 ],
 "metadata": {
  "kernelspec": {
   "display_name": "base",
   "language": "python",
   "name": "python3"
  },
  "language_info": {
   "codemirror_mode": {
    "name": "ipython",
    "version": 3
   },
   "file_extension": ".py",
   "mimetype": "text/x-python",
   "name": "python",
   "nbconvert_exporter": "python",
   "pygments_lexer": "ipython3",
   "version": "3.10.13"
  }
 },
 "nbformat": 4,
 "nbformat_minor": 2
}
