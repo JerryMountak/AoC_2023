{
 "cells": [
  {
   "cell_type": "code",
   "execution_count": 32,
   "metadata": {},
   "outputs": [],
   "source": [
    "from collections import deque\n",
    "\n",
    "def index_2d(myList, v):\n",
    "    for i, x in enumerate(myList):\n",
    "        if v in x:\n",
    "            return (i, x.index(v))\n",
    "\n",
    "def get_neighbors(cell, rows, cols):\n",
    "    row, col = cell\n",
    "    neighbors = []\n",
    "\n",
    "    if row > 0:\n",
    "        neighbors.append((row - 1, col))\n",
    "    if row < rows - 1:\n",
    "        neighbors.append((row + 1, col))\n",
    "    if col > 0:\n",
    "        neighbors.append((row, col - 1))\n",
    "    if col < cols - 1:\n",
    "        neighbors.append((row, col + 1))\n",
    "\n",
    "    return neighbors\n",
    "\n",
    "\n",
    "def possible_locations(start, grid, max_steps):\n",
    "    rows, cols = len(grid), len(grid[0])\n",
    "    stack   = deque([(0, start)])\n",
    "    visited = set()\n",
    "    res = 0\n",
    "\n",
    "    while stack:\n",
    "        st, cell = stack.popleft()\n",
    "\n",
    "        if st == max_steps+1:\n",
    "            break\n",
    "\n",
    "        if cell in visited:\n",
    "            continue\n",
    "\n",
    "        if st%2 == max_steps%2:\n",
    "            res += 1\n",
    "\n",
    "        visited.add(cell)\n",
    "\n",
    "        neighbors = get_neighbors(cell,rows,cols)\n",
    "\n",
    "        for n in neighbors:\n",
    "            n_row, n_col = n\n",
    "\n",
    "            if grid[n_row][n_col] == '#':\n",
    "                continue\n",
    "\n",
    "            stack.append((st+1,n))\n",
    "                \n",
    "    return res"
   ]
  },
  {
   "cell_type": "code",
   "execution_count": 33,
   "metadata": {},
   "outputs": [
    {
     "data": {
      "text/plain": [
       "3682"
      ]
     },
     "execution_count": 33,
     "metadata": {},
     "output_type": "execute_result"
    }
   ],
   "source": [
    "with open('input.txt') as f:\n",
    "    garden = list(map(list,f.read().splitlines()))\n",
    "\n",
    "start = index_2d(garden, 'S')\n",
    "possible_locations(start,garden,64)"
   ]
  }
 ],
 "metadata": {
  "kernelspec": {
   "display_name": "base",
   "language": "python",
   "name": "python3"
  },
  "language_info": {
   "codemirror_mode": {
    "name": "ipython",
    "version": 3
   },
   "file_extension": ".py",
   "mimetype": "text/x-python",
   "name": "python",
   "nbconvert_exporter": "python",
   "pygments_lexer": "ipython3",
   "version": "3.10.13"
  }
 },
 "nbformat": 4,
 "nbformat_minor": 2
}
