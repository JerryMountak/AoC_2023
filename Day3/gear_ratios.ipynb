{
 "cells": [
  {
   "cell_type": "code",
   "execution_count": 73,
   "metadata": {},
   "outputs": [],
   "source": [
    "symbols = {'@', '#', '$', '%', '&', '*', '-', '=', '+', '/'}"
   ]
  },
  {
   "cell_type": "code",
   "execution_count": 74,
   "metadata": {},
   "outputs": [],
   "source": [
    "def is_part_number(schem, look_range):\n",
    "    for i in range(look_range[2],look_range[3]+1):\n",
    "        for j in range(look_range[0],look_range[1]+1):\n",
    "            if schem[i][j] in symbols:\n",
    "                return True\n",
    "    return False"
   ]
  },
  {
   "cell_type": "code",
   "execution_count": 75,
   "metadata": {},
   "outputs": [
    {
     "data": {
      "text/plain": [
       "531932"
      ]
     },
     "execution_count": 75,
     "metadata": {},
     "output_type": "execute_result"
    }
   ],
   "source": [
    "with open(\"input.txt\") as f:\n",
    "    schematic = []\n",
    "    for line in f:\n",
    "        schematic.append(list(line))\n",
    "schematic[-1].append('\\n')\n",
    "\n",
    "sum = 0\n",
    "num = False\n",
    "edge_col = False\n",
    "for i,line in enumerate(schematic):\n",
    "    if i == 0:\n",
    "        look_range = [0,0,i,i+1]\n",
    "    elif i > 0 and i < len(schematic)-1:\n",
    "        look_range = [0,0,i-1,i+1]\n",
    "    elif i == len(schematic)-1:\n",
    "        look_range = [0,0,i-1,i]\n",
    "    \n",
    "    for j,char in enumerate(line):\n",
    "        if char.isnumeric():\n",
    "            if not num:\n",
    "                if j == 0:\n",
    "                    look_range[0] = 0\n",
    "                    edge_col = True\n",
    "                elif j > 0:\n",
    "                    look_range[0] = j-1\n",
    "                    edge_col = False\n",
    "            num = True\n",
    "        elif num:\n",
    "            look_range[1] = j\n",
    "            num = False\n",
    "            if is_part_number(schematic, look_range):\n",
    "                if edge_col:\n",
    "                    tmp = int(''.join([x for x in line[look_range[0]:look_range[1]]]))\n",
    "                else:\n",
    "                    tmp = int(''.join([x for x in line[look_range[0]+1:look_range[1]]]))\n",
    "                sum += tmp\n",
    "\n",
    "sum"
   ]
  },
  {
   "cell_type": "code",
   "execution_count": 76,
   "metadata": {},
   "outputs": [],
   "source": [
    "def is_gear(schem, look_range):\n",
    "    res = 0\n",
    "    for i in range(look_range[2],look_range[3]+1):\n",
    "        num = False\n",
    "        for j in range(look_range[0],look_range[1]+1):\n",
    "            if schem[i][j].isnumeric() and not num:\n",
    "                res += 1\n",
    "                num = True\n",
    "                continue\n",
    "            elif schem[i][j].isnumeric() and num:\n",
    "                continue\n",
    "            elif not num:\n",
    "                continue\n",
    "            else:\n",
    "                num = False\n",
    "                continue\n",
    "    if res == 2:\n",
    "        return True\n",
    "    # print(look_range,res)\n",
    "    return False            "
   ]
  },
  {
   "cell_type": "code",
   "execution_count": 77,
   "metadata": {},
   "outputs": [],
   "source": [
    "def is_num_near_gear(gear, num):\n",
    "    gear_start_col, gear_end_col, gear_start_row, gear_end_row = gear\n",
    "    num_row, num_start_col, num_end_col = num[0],num[1][0],num[1][1]\n",
    "\n",
    "    col_intersection = (\n",
    "        num_start_col <= gear_end_col and num_end_col > gear_start_col\n",
    "    )\n",
    "\n",
    "    row_intersection = (\n",
    "        num_row <= gear_end_row and num_row >= gear_start_row\n",
    "    )\n",
    "\n",
    "    return col_intersection and row_intersection"
   ]
  },
  {
   "cell_type": "code",
   "execution_count": 78,
   "metadata": {},
   "outputs": [
    {
     "data": {
      "text/plain": [
       "73646890"
      ]
     },
     "execution_count": 78,
     "metadata": {},
     "output_type": "execute_result"
    }
   ],
   "source": [
    "with open(\"input.txt\") as f:\n",
    "    schematic = []\n",
    "    for line in f:\n",
    "        schematic.append(list(line))\n",
    "schematic[-1].append('\\n')\n",
    "\n",
    "num = False\n",
    "edge_col = False\n",
    "nums = []\n",
    "for i,line in enumerate(schematic):\n",
    "    if i == 0:\n",
    "        look_range = [0,0,i,i+1]\n",
    "    elif i > 0 and i < len(schematic)-1:\n",
    "        look_range = [0,0,i-1,i+1]\n",
    "    elif i == len(schematic)-1:\n",
    "        look_range = [0,0,i-1,i]\n",
    "\n",
    "    \n",
    "    for j,char in enumerate(line):\n",
    "        if char.isnumeric():\n",
    "            if not num:\n",
    "                if j == 0:\n",
    "                    look_range[0] = 0\n",
    "                    edge_col = True\n",
    "                elif j > 0:\n",
    "                    look_range[0] = j-1\n",
    "                    edge_col = False\n",
    "            num = True\n",
    "        elif num:\n",
    "            look_range[1] = j\n",
    "            num = False\n",
    "            if is_part_number(schematic, look_range):\n",
    "                if edge_col:\n",
    "                    num_range = (look_range[0],look_range[1])\n",
    "                    tmp = int(''.join([x for x in line[num_range[0]:num_range[1]]]))\n",
    "                else:\n",
    "                    num_range = (look_range[0]+1,look_range[1])\n",
    "                    tmp = int(''.join([x for x in line[num_range[0]:num_range[1]]]))\n",
    "                nums.append((tmp,(i,num_range)))\n",
    "\n",
    "gears = []\n",
    "for i,line in enumerate(schematic):\n",
    "    if i == 0:\n",
    "        look_range = [0,0,i,i+1]\n",
    "    elif i > 0 and i < len(schematic)-1:\n",
    "        look_range = [0,0,i-1,i+1]\n",
    "    elif i == len(schematic)-1:\n",
    "        look_range = [0,0,i-1,i]\n",
    "    \n",
    "    for j,char in enumerate(line):\n",
    "        if char == '*':\n",
    "            if j == 0:\n",
    "                look_range[0] = 0\n",
    "                look_range[1] = 1\n",
    "            elif j > 0:\n",
    "                look_range[0] = j-1\n",
    "                look_range[1] = j+1\n",
    "            if is_gear(schematic, look_range):\n",
    "                gears.append(tuple(look_range))\n",
    "\n",
    "\n",
    "sum = 0\n",
    "for gear in gears:\n",
    "    tmp = 1\n",
    "    for num in nums:\n",
    "        if is_num_near_gear(gear,num[1]):\n",
    "            tmp *= num[0]\n",
    "    sum += tmp\n",
    "\n",
    "sum\n"
   ]
  }
 ],
 "metadata": {
  "kernelspec": {
   "display_name": "base",
   "language": "python",
   "name": "python3"
  },
  "language_info": {
   "codemirror_mode": {
    "name": "ipython",
    "version": 3
   },
   "file_extension": ".py",
   "mimetype": "text/x-python",
   "name": "python",
   "nbconvert_exporter": "python",
   "pygments_lexer": "ipython3",
   "version": "3.10.13"
  }
 },
 "nbformat": 4,
 "nbformat_minor": 2
}
