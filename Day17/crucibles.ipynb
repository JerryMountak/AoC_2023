{
 "cells": [
  {
   "cell_type": "code",
   "execution_count": 1,
   "metadata": {},
   "outputs": [],
   "source": [
    "from collections import deque\n",
    "\n",
    "def bfs(grid, start):\n",
    "    queue = deque([[start]])\n",
    "    seen = set([start])\n",
    "    while queue:\n",
    "        path = queue.popleft()\n",
    "        x, y = path[-1]\n",
    "        if (x,y) == (len(grid)-1, len(grid[0])-1):\n",
    "            return path\n",
    "        for x2, y2 in ((x+1,y), (x-1,y), (x,y+1), (x,y-1)):\n",
    "            if 0 <= x2 < len(grid) and 0 <= y2 < len(grid[0]) and (x2, y2) not in seen:\n",
    "                queue.append(path + [(x2, y2)])\n",
    "                seen.add((x2, y2))"
   ]
  },
  {
   "cell_type": "code",
   "execution_count": 2,
   "metadata": {},
   "outputs": [
    {
     "name": "stdout",
     "output_type": "stream",
     "text": [
      "The shortest path cost is: 20\n",
      "The shortest path is: [(0, 0), (0, 1), (0, 2), (1, 2), (2, 2)]\n"
     ]
    }
   ],
   "source": [
    "import heapq\n",
    "\n",
    "def heuristic(cell, goal):\n",
    "    # Manhattan distance heuristic\n",
    "    return abs(cell[0] - goal[0]) + abs(cell[1] - goal[1])\n",
    "\n",
    "def a_star(array):\n",
    "    rows, cols = len(array), len(array[0])\n",
    "    start = (0, 0)\n",
    "    end = (rows - 1, cols - 1)\n",
    "\n",
    "    # Priority queue to store (f-value, cost, cell, path) tuples\n",
    "    pq = [(heuristic(start, end), 0, start, [start])]\n",
    "    visited = set()\n",
    "\n",
    "    while pq:\n",
    "        _, current_cost, current_cell, current_path = heapq.heappop(pq)\n",
    "\n",
    "        if current_cell == end:\n",
    "            return current_cost, current_path\n",
    "\n",
    "        if current_cell in visited:\n",
    "            continue\n",
    "\n",
    "        visited.add(current_cell)\n",
    "\n",
    "        neighbors = get_neighbors(current_cell, rows, cols)\n",
    "        for neighbor in neighbors:\n",
    "            neighbor_row, neighbor_col = neighbor\n",
    "                          \n",
    "            if all(t[1] == neighbor_col for t in current_path[-4:]) and len(current_path) > 4:\n",
    "                continue\n",
    "            if all(t[0] == neighbor_row for t in current_path[-4:]) and len(current_path) > 4:\n",
    "                continue\n",
    "\n",
    "            neighbor_cost = current_cost + array[neighbor_row][neighbor_col]\n",
    "            h_value = heuristic(neighbor, end)\n",
    "            f_value = neighbor_cost + h_value\n",
    "            neighbor_path = current_path + [(neighbor_row, neighbor_col)]\n",
    "            heapq.heappush(pq, (f_value, neighbor_cost, neighbor, neighbor_path))\n",
    "\n",
    "    # If the end is not reachable\n",
    "    return float('inf'), []\n",
    "\n",
    "def get_neighbors(cell, rows, cols):\n",
    "    row, col = cell\n",
    "    neighbors = []\n",
    "\n",
    "    if row > 0:\n",
    "        neighbors.append((row - 1, col))\n",
    "    if row < rows - 1:\n",
    "        neighbors.append((row + 1, col))\n",
    "    if col > 0:\n",
    "        neighbors.append((row, col - 1))\n",
    "    if col < cols - 1:\n",
    "        neighbors.append((row, col + 1))\n",
    "\n",
    "    return neighbors\n",
    "\n",
    "# Example usage\n",
    "array = [\n",
    "    [1, 2, 3],\n",
    "    [4, 5, 6],\n",
    "    [7, 8, 9]\n",
    "]\n",
    "\n",
    "cost, path = a_star(array)\n",
    "print(f\"The shortest path cost is: {cost}\")\n",
    "print(f\"The shortest path is: {path}\")\n"
   ]
  },
  {
   "cell_type": "code",
   "execution_count": 47,
   "metadata": {},
   "outputs": [],
   "source": [
    "import heapq\n",
    "\n",
    "def shortest_path(array, min_cons, max_cons):\n",
    "    rows, cols = len(array), len(array[0])\n",
    "    start = (0, 0)\n",
    "    end = (rows - 1, cols - 1)\n",
    "    right, down, left, up = (0,1), (1,0), (0,-1), (-1,0)\n",
    "\n",
    "    # Priority queue to store (cost, cell, path) tuples\n",
    "    pq = [(0, start, down, 1), (0, start, right, 1)]\n",
    "    visited = set()\n",
    "\n",
    "    while pq:\n",
    "        # for p in pq:\n",
    "        #     print(p)\n",
    "        # print()\n",
    "\n",
    "        cost, cell, _dir, cons_dir = heapq.heappop(pq)\n",
    "\n",
    "        if (cell, _dir, cons_dir) in visited:\n",
    "            continue\n",
    "\n",
    "        visited.add((cell, _dir, cons_dir))\n",
    "\n",
    "        new_cell = (cell[0] + _dir[0], cell[1] + _dir[1])\n",
    "        if new_cell[0] < 0 or new_cell[1] < 0 or new_cell[0] >= rows or new_cell[1] >= cols:\n",
    "            continue\n",
    "       \n",
    "        new_cost = cost + array[new_cell[0]][new_cell[1]]\n",
    "\n",
    "        if min_cons <= cons_dir <= max_cons:\n",
    "            if new_cell == end:\n",
    "                return new_cost\n",
    "        \n",
    "        for n_dir in [right, down, left, up]:              \n",
    "            \n",
    "            if _dir[0] + n_dir[0] == 0 and _dir[1] + n_dir[1] == 0:\n",
    "                continue\n",
    "\n",
    "            new_cons = cons_dir + 1 if n_dir == _dir else 1\n",
    "            \n",
    "            if (cons_dir < min_cons and n_dir != _dir) or new_cons > max_cons:\n",
    "                continue\n",
    "\n",
    "            heapq.heappush(pq, (new_cost, new_cell, n_dir, new_cons))\n",
    "        \n",
    "    # If the end is not reachable\n",
    "    return float('inf'), []\n"
   ]
  },
  {
   "cell_type": "code",
   "execution_count": 50,
   "metadata": {},
   "outputs": [
    {
     "data": {
      "text/plain": [
       "936"
      ]
     },
     "execution_count": 50,
     "metadata": {},
     "output_type": "execute_result"
    }
   ],
   "source": [
    "city_blocks = [list(map(int, list(l))) for l in open('input.txt').read().splitlines()]\n",
    "\n",
    "shortest_path(city_blocks,1,3)"
   ]
  },
  {
   "cell_type": "code",
   "execution_count": 51,
   "metadata": {},
   "outputs": [
    {
     "data": {
      "text/plain": [
       "1157"
      ]
     },
     "execution_count": 51,
     "metadata": {},
     "output_type": "execute_result"
    }
   ],
   "source": [
    "shortest_path(city_blocks,4,10)"
   ]
  }
 ],
 "metadata": {
  "kernelspec": {
   "display_name": "base",
   "language": "python",
   "name": "python3"
  },
  "language_info": {
   "codemirror_mode": {
    "name": "ipython",
    "version": 3
   },
   "file_extension": ".py",
   "mimetype": "text/x-python",
   "name": "python",
   "nbconvert_exporter": "python",
   "pygments_lexer": "ipython3",
   "version": "3.10.13"
  }
 },
 "nbformat": 4,
 "nbformat_minor": 2
}
