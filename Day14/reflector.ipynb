{
 "cells": [
  {
   "cell_type": "code",
   "execution_count": 28,
   "metadata": {},
   "outputs": [],
   "source": [
    "def tilt_north(column):\n",
    "    cubes = [i for i in range(len(column)) if column[i] == '#']\n",
    "    res = 0\n",
    "    ind_low = 0\n",
    "    if cubes:\n",
    "        cubes.append(len(column))\n",
    "        for ind_high in cubes:\n",
    "            rounds = sum([1 for i in column[ind_low:ind_high] if i == 'O'])\n",
    "            for i in range(rounds):\n",
    "                res += len(column[ind_low:])-i\n",
    "            ind_low = ind_high+1\n",
    "    else:\n",
    "        rounds = sum([1 for i in column if i == 'O'])\n",
    "        for i in range(rounds):\n",
    "            res += len(column)-i\n",
    "\n",
    "    return res"
   ]
  },
  {
   "cell_type": "code",
   "execution_count": 29,
   "metadata": {},
   "outputs": [
    {
     "name": "stdout",
     "output_type": "stream",
     "text": [
      "3\n",
      "3\n",
      "3\n"
     ]
    }
   ],
   "source": [
    "import numpy as np \n",
    "\n",
    "a = np.zeros((3,3))\n",
    "for l in a:\n",
    "    print(len(l))"
   ]
  },
  {
   "cell_type": "code",
   "execution_count": 30,
   "metadata": {},
   "outputs": [],
   "source": [
    "def tilt(G):\n",
    "    for i,l in enumerate(G):\n",
    "        cubes = [i for i in range(len(l)) if l[i] == '#']\n",
    "        tilted_l = []\n",
    "        ind_low = 0\n",
    "        if cubes:\n",
    "            cubes.append(len(l))\n",
    "            for ind_high in cubes:\n",
    "                rounds = sum([1 for i in l[ind_low:ind_high] if i == 'O'])\n",
    "                for _ in range(rounds):\n",
    "                    tilted_l.append('O')\n",
    "                for _ in range(ind_high-ind_low-rounds):\n",
    "                    tilted_l.append('.')\n",
    "                tilted_l.append('#')\n",
    "                ind_low = ind_high+1\n",
    "        else:\n",
    "            rounds = sum([1 for i in l if i == 'O'])\n",
    "            for _ in range(rounds):\n",
    "                tilted_l.append('O')\n",
    "            for _ in range(len(l)-rounds):\n",
    "                tilted_l.append('.')\n",
    "            tilted_l.append('#')\n",
    "            # print(tilted_l)\n",
    "        \n",
    "        # print(len(tilted_l[:-1]))\n",
    "        for j,r in enumerate(tilted_l[:-1]):\n",
    "            G[i][j] = r\n",
    "\n",
    "    return G"
   ]
  },
  {
   "cell_type": "code",
   "execution_count": 31,
   "metadata": {},
   "outputs": [
    {
     "name": "stdout",
     "output_type": "stream",
     "text": [
      "110821 110821\n"
     ]
    }
   ],
   "source": [
    "platform = []\n",
    "\n",
    "with open(\"input.txt\") as f:\n",
    "    for line in f:\n",
    "        platform.append(list(line)[:-1])\n",
    "\n",
    "cols = [[i[j] for i in platform] for j in range(len(platform[0]))]\n",
    "sum([tilt_north(col) for col in cols])\n",
    "\n",
    "G = np.array(platform)\n",
    "G_tmp = np.rot90(G)\n",
    "G_tmp = tilt(G_tmp)\n",
    "np.rot90(G_tmp,3)\n",
    "\n",
    "res = 0\n",
    "for j,row in enumerate(G):\n",
    "    tmp = sum([1 for j in row if j == 'O'])\n",
    "    res += tmp*(G.shape[0]-j)\n",
    "print(res, sum([tilt_north(col) for col in cols]))"
   ]
  },
  {
   "cell_type": "code",
   "execution_count": 32,
   "metadata": {},
   "outputs": [
    {
     "name": "stdout",
     "output_type": "stream",
     "text": [
      "[[1, 4, 7], [2, 5, 8], [3, 6, 9]]\n",
      "[[1, 2, 3], [4, 5, 6], [7, 8, 9]]\n",
      "[[7, 4, 1], [8, 5, 2], [9, 6, 3]]\n",
      "[[7, 8, 9], [4, 5, 6], [1, 2, 3]]\n",
      "[[9, 8, 7], [6, 5, 4], [3, 2, 1]]\n",
      "[[1, 2, 3], [4, 5, 6], [7, 8, 9]]\n"
     ]
    }
   ],
   "source": [
    "l = [[1,2,3], [4,5,6], [7,8,9]]\n",
    "l = [[i[j] for i in l] for j in range(len(l[0]))]\n",
    "print(l)\n",
    "l = l = [[i[j] for i in l] for j in range(len(l[0]))]\n",
    "print(l)\n",
    "l = [list(reversed(sublist)) for sublist in zip(*l)]\n",
    "print(l)\n",
    "l = [[i[j] for i in l] for j in range(len(l[0]))]\n",
    "print(l)\n",
    "# l = list(reversed(l))\n",
    "l = [list(reversed(sublist)) for sublist in l]\n",
    "print(l)\n",
    "l = list(reversed(l))\n",
    "l = [list(reversed(sublist)) for sublist in l]\n",
    "print(l)"
   ]
  },
  {
   "cell_type": "code",
   "execution_count": 45,
   "metadata": {},
   "outputs": [],
   "source": [
    "import numpy as np\n",
    "\n",
    "def spin_cycle(platform):\n",
    "    # print('1\\n', platform, '\\n')\n",
    "    l = platform\n",
    "    # l_tmp = np.rot90(l).copy()\n",
    "    cycles = 1000000000\n",
    "    loads = {}\n",
    "    for i in range(cycles):\n",
    "        # print('~~~~~~~~~~~~~')\n",
    "        l = [[i[j] for i in l] for j in range(len(l[0]))]\n",
    "        # for j in range(1,4):\n",
    "        l = tilt(l)\n",
    "        # for lst in l:\n",
    "        #     print(lst)\n",
    "        # print('\\n')\n",
    "        l = [[i[j] for i in l] for j in range(len(l[0]))]\n",
    "        l = tilt(l)\n",
    "        # for lst in l:\n",
    "        #     print(lst)\n",
    "        # print('\\n')\n",
    "        l = [list(reversed(sublist)) for sublist in zip(*l)]\n",
    "        l = tilt(l)\n",
    "        # for lst in l:\n",
    "        #     print(lst)\n",
    "        # print('\\n')\n",
    "        l = [[i[j] for i in l] for j in range(len(l[0]))]\n",
    "        # l = list(reversed(l))\n",
    "        l = [list(reversed(sublist)) for sublist in l]\n",
    "        l = tilt(l)\n",
    "        # for lst in l:\n",
    "        #     print(lst)\n",
    "        # print('\\n')\n",
    "        l = list(reversed(l))\n",
    "        l = [list(reversed(sublist)) for sublist in l]\n",
    "\n",
    "        # for lst in l:\n",
    "        #     print(lst)\n",
    "        # print('\\n')\n",
    "\n",
    "        rocks = tuple(map(tuple,l))\n",
    "        h = hash(rocks)\n",
    "        if h in loads.keys():\n",
    "            print(\"Found repetition at cycle {}!\".format(i))\n",
    "            res = 0\n",
    "            break\n",
    "\n",
    "        res = 0\n",
    "        for j,row in enumerate(l):\n",
    "            tmp = sum([1 for j in row if j == 'O'])\n",
    "            res += tmp*(len(l)-j)\n",
    "        \n",
    "        loads[h] = (i,res)\n",
    "    \n",
    "    cycle_end = i\n",
    "    cycle_start = loads[h][0]\n",
    "    cycle_length = cycle_end - cycle_start\n",
    "    cycles_left = cycles - cycle_start\n",
    "    nloops = cycles_left // cycle_length\n",
    "    loops = cycles_left % cycle_length\n",
    "    ind = loops + cycle_start - 1\n",
    "    \n",
    "    print(f\"Cycle loop begins at cycle {cycle_start} and ends at cycle {cycle_end} (period = {cycle_length})\")\n",
    "    print(\"{} loops + {} cycles (after {} initial cycles) to reach load of {} cycles\".format(nloops,loops,cycles_left,cycles))\n",
    "    print(\"Load of cycle {} corresponds to load of cycle {}\".format(cycles,ind))\n",
    "\n",
    "    for _,(m,n) in loads.items():\n",
    "        if m == ind:\n",
    "            return n\n",
    "    "
   ]
  },
  {
   "cell_type": "code",
   "execution_count": 46,
   "metadata": {},
   "outputs": [
    {
     "name": "stdout",
     "output_type": "stream",
     "text": [
      "Found repetition at cycle 136!\n",
      "Cycle loop begins at cycle 125 and ends at cycle 136 (period = 11)\n",
      "90909079 loops + 6 cycles (after 999999875 initial cycles) to reach load of 1000000000 cycles\n",
      "Load of cycle 1000000000 corresponds to load of cycle 130\n"
     ]
    },
    {
     "data": {
      "text/plain": [
       "83516"
      ]
     },
     "execution_count": 46,
     "metadata": {},
     "output_type": "execute_result"
    }
   ],
   "source": [
    "spin_cycle(platform)"
   ]
  }
 ],
 "metadata": {
  "kernelspec": {
   "display_name": "base",
   "language": "python",
   "name": "python3"
  },
  "language_info": {
   "codemirror_mode": {
    "name": "ipython",
    "version": 3
   },
   "file_extension": ".py",
   "mimetype": "text/x-python",
   "name": "python",
   "nbconvert_exporter": "python",
   "pygments_lexer": "ipython3",
   "version": "3.10.13"
  }
 },
 "nbformat": 4,
 "nbformat_minor": 2
}
